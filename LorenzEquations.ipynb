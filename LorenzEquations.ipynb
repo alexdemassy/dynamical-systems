{
 "cells": [
  {
   "cell_type": "markdown",
   "metadata": {},
   "source": [
    "<table>\n",
    " <tr align=left><td><img align=left src=\"./images/CC-BY.png\">\n",
    " <td>Text provided under a Creative Commons Attribution license, CC-BY. All code is made available under the FSF-approved MIT license. (c) Marc Spiegelman,  Based on ipython notebook by Kyle Mandli from his course [Introduction to numerical methods](https://github.com/mandli/intro-numerical-methods)</td>\n",
    "</table>"
   ]
  },
  {
   "cell_type": "code",
   "execution_count": null,
   "metadata": {
    "collapsed": false,
    "scrolled": true,
    "slideshow": {
     "slide_type": "skip"
    }
   },
   "outputs": [],
   "source": [
    "%matplotlib inline\n",
    "import numpy as np\n",
    "import matplotlib.pyplot as plt\n",
    "from scipy.integrate import odeint\n",
    "from mpl_toolkits.mplot3d import Axes3D\n",
    "from numpy.linalg import eigvals\n"
   ]
  },
  {
   "cell_type": "markdown",
   "metadata": {
    "slideshow": {
     "slide_type": "slide"
    }
   },
   "source": [
    "# Exploring the Lorenz Equations\n",
    "\n",
    "The Lorenz Equations are a 3-D dynamical system that is a simplified model of Rayleigh-Benard thermal convection.  They are derived and described in detail in Edward Lorenz' 1963 paper [Deterministic Nonperiodic Flow](http://journals.ametsoc.org/doi/pdf/10.1175/1520-0469%281963%29020%3C0130%3ADNF%3E2.0.CO%3B2)  in the Journal of Atmospheric Science.  In their classical form they can be written\n",
    "\n",
    "$$ \n",
    "    \\dot{X} = \\sigma( Y - X)\\\\\n",
    "    \\dot{Y} = rX - Y - XZ \\\\\n",
    "    \\dot{Z} = XY -b Z\n",
    "$$\n",
    "\n",
    "where $\\sigma$ is the \"Prandtl Number\",  $r = \\mathrm{Ra}/\\mathrm{Ra}_c$ is a scaled \"Raleigh number\" and $b$ is a parameter that is related to the the aspect ratio of a convecting cell in the original derivation.\n",
    "\n",
    "This ipython notebook, will provide some simple python routines for numerical integration and visualization of the Lorenz Equations.  The primary code is modified from the Wikipedia [page](https://en.wikipedia.org/wiki/Lorenz_system)"
   ]
  },
  {
   "cell_type": "markdown",
   "metadata": {},
   "source": [
    "## Some useful python routines"
   ]
  },
  {
   "cell_type": "code",
   "execution_count": null,
   "metadata": {
    "collapsed": false
   },
   "outputs": [],
   "source": [
    "def Lorenz(state,t,sigma,r,b):\n",
    "  '''\n",
    "  Returns the RHS of the Lorenz equations\n",
    "  '''\n",
    "  # unpack the state vector\n",
    "  x = state[0]\n",
    "  y = state[1]\n",
    "  z = state[2]\n",
    "\n",
    "  # compute state derivatives\n",
    "  xd = sigma * (y-x)\n",
    "  yd = (r-z)*x - y\n",
    "  zd = x*y - b*z\n",
    "\n",
    "  # return the state derivatives\n",
    "  return [xd, yd, zd]\n",
    "\n",
    "def SolveLorenz(state0,t,sigma=10.,r=28.,b=8./3.0):\n",
    "    '''\n",
    "    use ODEINT to integrate the lorenz equations from initial condition state0 at t=0 for\n",
    "    the range of times given in the numpy array t\n",
    "    '''\n",
    "\n",
    "\n",
    "    Lorenz_p = lambda state,t: Lorenz(state,t,sigma,r,b)\n",
    "    state = odeint(Lorenz_p, state0, t)\n",
    "    return state\n",
    "\n",
    "def PlotLorenzXvT(state,t,sigma,r,b):\n",
    "    '''\n",
    "    make time series plots of solutions of the Lorenz equations X(t),Y(t),Z(t)\n",
    "    '''\n",
    "\n",
    "    plt.figure()\n",
    "    ax = plt.subplot(111)\n",
    "    X = state[:,0]\n",
    "    Y = state[:,1]\n",
    "    Z = state[:,2]\n",
    "    ax.plot(t,X,'r',label='X')\n",
    "    ax.hold(True)\n",
    "    ax.plot(t,Y,'g',label='Y')\n",
    "    ax.plot(t,Z,'b',label='Z')\n",
    "    ax.set_xlabel('time t')\n",
    "    plt.title('Lorenz Equations: $\\sigma=${}, $r=${}, $b=${}'.format(sigma,r,b))\n",
    "    # Shrink current axis's height by 10% on the bottom\n",
    "    box = ax.get_position()\n",
    "    ax.set_position([box.x0, box.y0 + box.height * 0.1,\n",
    "                 box.width, box.height * 0.9])\n",
    "\n",
    "    # Put a legend below current axis\n",
    "    ax.legend(loc='upper center', bbox_to_anchor=(0.5, -0.05),ncol=3)\n",
    "    plt.show()\n",
    "    \n",
    "  \n",
    "    \n",
    "def PlotLorenz3D(state,sigma,r,b):\n",
    "    '''\n",
    "    Show 3-D Phase portrait using mplot3D\n",
    "    '''\n",
    "    # do some fancy 3D plotting\n",
    "    fig = plt.figure()\n",
    "    ax = fig.gca(projection='3d')\n",
    "    ax.plot(state[:,0],state[:,1],state[:,2])\n",
    "    ax.set_xlabel('x')\n",
    "    ax.set_ylabel('y')\n",
    "    ax.set_zlabel('z')\n",
    "    plt.title('Lorenz Equations: $\\sigma=${}, $r=${}, $b=${}'.format(sigma,r,b))\n",
    "    plt.show()\n",
    "    \n",
    "\n"
   ]
  },
  {
   "cell_type": "markdown",
   "metadata": {},
   "source": [
    "## Subcritical behavior $r<1$\n",
    "\n",
    "Here we will begin exploring the behavior of the Lorenz equations for fixed values of $\\sigma$ and $b$ and just changing the Rayleigh number $r$.\n",
    "\n",
    "We will begin with subcritical behavior $r=0.5$  which rapidly damps to a condition of no motion"
   ]
  },
  {
   "cell_type": "code",
   "execution_count": null,
   "metadata": {
    "collapsed": false
   },
   "outputs": [],
   "source": [
    "# Set the parameters\n",
    "sigma= 10.\n",
    "b = 8./3\n",
    "\n",
    "# set the initial condition\n",
    "X0 = [2.0, 3.0, 4.0]\n",
    "\n",
    "# set the time for integration\n",
    "t = np.arange(0.0, 30.0, 0.01)\n",
    "\n",
    "# set the Rayleigh number\n",
    "r = 0.5\n",
    "\n",
    "# solve the Equations\n",
    "state = SolveLorenz(X0,t,sigma,r,b)\n",
    "\n",
    "# and Visualize as a time series\n",
    "PlotLorenzXvT(state,t,sigma,r,b)\n",
    "\n",
    "# and as a 3-D phase portrait\n",
    "PlotLorenz3D(state,sigma,r,b)\n",
    "\n"
   ]
  },
  {
   "cell_type": "markdown",
   "metadata": {},
   "source": [
    "## Damped Oscillation $r=10$\n",
    "\n",
    "Now we increase the Rayleigh number to  $r=10$ which admits two steady solutions depending on initial condition.\n"
   ]
  },
  {
   "cell_type": "code",
   "execution_count": null,
   "metadata": {
    "collapsed": false
   },
   "outputs": [],
   "source": [
    "# set the Rayleigh number\n",
    "r = 10.0\n",
    "X0 = [2.,3.,4.]\n",
    "state = SolveLorenz(X0,t,sigma,r,b)\n",
    "PlotLorenzXvT(state,t,sigma,r,b)\n",
    "PlotLorenz3D(state,sigma,r,b)\n",
    "\n",
    "# now change the initial condition so X=-2\n",
    "X0 = [-2.0, -3.0, 4.0]\n",
    "\n",
    "state = SolveLorenz(X0,t,sigma,r,b)\n",
    "PlotLorenzXvT(state,t,sigma,r,b)\n",
    "PlotLorenz3D(state,sigma,r,b)"
   ]
  },
  {
   "cell_type": "markdown",
   "metadata": {},
   "source": [
    "## Chaos and the strange attractor $r=28$\n",
    "\n",
    "Now we increase the Rayleigh number to  $r=28$ and the solution becomes highly time-dependent and a-periodic.  \n"
   ]
  },
  {
   "cell_type": "code",
   "execution_count": null,
   "metadata": {
    "collapsed": false
   },
   "outputs": [],
   "source": [
    "# set the Rayleigh number\n",
    "r = 28.0\n",
    "X0 = [2.,3.,4.]\n",
    "state = SolveLorenz(X0,t,sigma,r,b)\n",
    "PlotLorenzXvT(state,t,sigma,r,b)\n",
    "PlotLorenz3D(state,sigma,r,b)\n"
   ]
  },
  {
   "cell_type": "markdown",
   "metadata": {},
   "source": []
  },
  {
   "cell_type": "markdown",
   "metadata": {},
   "source": [
    "## Limit Cycle at large Rayleigh number\n",
    "\n",
    "Now we increase the Rayleigh number to  $r=350$ and the solution goes to a periodic limit cycle  \n"
   ]
  },
  {
   "cell_type": "code",
   "execution_count": null,
   "metadata": {
    "collapsed": false
   },
   "outputs": [],
   "source": [
    "# set the Rayleigh number\n",
    "r = 350\n",
    "X0 = [2.,3.,4.]\n",
    "t = np.arange(0,8.,.0001)\n",
    "state = SolveLorenz(X0,t,sigma,r,b)\n",
    "PlotLorenzXvT(state,t,sigma,r,b)\n",
    "PlotLorenz3D(state,sigma,r,b)\n"
   ]
  },
  {
   "cell_type": "markdown",
   "metadata": {},
   "source": [
    "# Stability of Fixed Points\n",
    "\n",
    "It is straightforward to show that the Lorenz system has a fixed point at $X=Y=Z=0$ for all values of parameters $r,\\sigma,b$.  Moreover, the Jacobian for the origin is\n",
    "\n",
    "$$ \n",
    "    J = \\left[\n",
    "        \\begin{matrix}\n",
    "            -\\sigma & \\sigma & 0 \\\\\n",
    "                 r & -1 & 0      \\\\ \n",
    "                 0 & 0 & -b \n",
    "        \\end{matrix}\n",
    "        \\right]\n",
    "$$\n",
    "which has three negative eigenvalues for $r<1$ (Stable sink),  and 2 negative and 1 positive eigenvalue for $r > 1$ (3-D Saddle point).\n",
    "\n",
    "At $r=1$, the Jacobian is singular and the origin undergoes a pitchfork bifurcation where two new fixed points appear at coordinates \n",
    "$$\n",
    "    C^{\\pm} = \\left[\n",
    "            \\begin{matrix} \n",
    "            \\pm\\sqrt{b(r-1)} \\\\\n",
    "            \\pm\\sqrt{b(r-1)} \\\\\n",
    "            (r-1)\n",
    "            \\end{matrix}\n",
    "            \\right] \n",
    "$$\n",
    "\n",
    "The stability of $C^+$ and $C^-$ depend on the eigenvalues of the Jacobian at these points, e.g \n",
    "$$ \n",
    "    J = \\left[\n",
    "        \\begin{matrix}\n",
    "            -\\sigma & \\sigma & 0 \\\\\n",
    "                 1 & -1 & -x^+      \\\\ \n",
    "                 x^+ & x^+ & -b \n",
    "        \\end{matrix}\n",
    "        \\right]\n",
    "$$\n",
    "where $x^+=\\sqrt{b(r-1)}$.  These eigenvalues can be found as the roots of the cubic polynomial in $\\lambda$ given by $|J -\\lambda I|=0$ (which I will ask you to find in a homework problem).  But here we will just calculate and plot them numerically"
   ]
  },
  {
   "cell_type": "code",
   "execution_count": null,
   "metadata": {
    "collapsed": false
   },
   "outputs": [],
   "source": [
    "sigma = 10\n",
    "b = 8./3.\n",
    "r_H = sigma*(sigma+b+3)/(sigma-b -1.) # critical value of r at Hopf bifurcation\n",
    "r_max = 28.\n",
    "ra = np.linspace(1,28.,20)\n",
    "\n",
    "xstar = lambda r: np.sqrt(b*(r-1))\n",
    "J = lambda r: np.array([[-sigma,sigma,0],[1,-1,-xstar(r)],[xstar(r),xstar(r),-b]])\n",
    "\n",
    "# plot out the eigenvalues\n",
    "import  matplotlib.cm as cm\n",
    "cmap = cm.get_cmap('coolwarm')\n",
    "\n",
    "fig = plt.figure()\n",
    "for r in ra:\n",
    "    L = eigvals(J(r))\n",
    "    plt.plot(np.real(L),np.imag(L),'o',color=cmap((r-min(ra))/(max(ra)-min(ra))))\n",
    "    plt.hold(True)\n",
    "# plot out eigenvalues at the Hopf Bifurcation\n",
    "L = eigvals(J(r_H))\n",
    "plt.plot(np.real(L),np.imag(L),'sy')\n",
    "plt.xlabel('Re$(\\lambda)$')\n",
    "plt.ylabel('Im$(\\lambda)$')\n",
    "plt.title('Eigenvalues of $C^+$ for $r\\in[1,{}]$, $r_H={}$'.format(max(ra),r_H))\n",
    "plt.grid()\n",
    "plt.show()"
   ]
  },
  {
   "cell_type": "code",
   "execution_count": null,
   "metadata": {
    "collapsed": true
   },
   "outputs": [],
   "source": []
  },
  {
   "cell_type": "markdown",
   "metadata": {},
   "source": [
    "# Liapunov Exponents\n",
    "\n",
    "for $r>r_H$,  the Lorenz system exhibits a chaotic or \"strange\" attractor with nonperiodic orbits that exhibit extreme sensitivity to initial conditions.  One measure of this sensitivity is the \"Liapunov Exponent\" $\\lambda$ defined roughly by\n",
    "$$\n",
    "        ||\\delta(t)|| = ||\\delta_0||e^{\\lambda t}\n",
    "$$ \n",
    "where $||\\delta(t)||$ is the distance between to trajectories that started with initial conditions an infinitesimal distance $\\delta_0<<1$ apart at $t=0$.\n",
    "\n",
    "Here we will just estimate numerically the Liaponuv exponent for our chaotic system.\n"
   ]
  },
  {
   "cell_type": "code",
   "execution_count": null,
   "metadata": {
    "collapsed": false
   },
   "outputs": [],
   "source": [
    "# start by running the Lorenz system long enough to get on the attractor\n",
    "r = 28.0\n",
    "X0 = [1.,0.,0.]\n",
    "t = np.arange(0,20,.01)\n",
    "state = SolveLorenz(X0,t,sigma,r,b)\n",
    "\n",
    "# extract the final state and perturb it by a small amount epsilon\n",
    "X0 = state[-1]\n",
    "epsilon=1.e-6\n",
    "X1 = X0 + epsilon*np.random.rand(3)\n",
    "delta_0 = np.sqrt(np.sum((X1-X0)**2))\n",
    "\n",
    "# Now run both initial conditions\n",
    "t=np.arange(0.,50.,.0001)\n",
    "state0 = SolveLorenz(X0,t,sigma,r,b)\n",
    "state1 = SolveLorenz(X1,t,sigma,r,b)\n",
    "\n",
    "# Compare the two trajectories as time-series X\n",
    "plt.figure()\n",
    "ax = plt.subplot(111)\n",
    "ax.plot(t,state0[:,0],'r',t,state1[:,0],'b')\n",
    "plt.xlabel('t')\n",
    "plt.ylabel('X(t)')\n",
    "plt.show()\n",
    "\n",
    "# and in the phase space\n",
    "fig = plt.figure()\n",
    "ax = fig.gca(projection='3d')\n",
    "ax.plot(state0[:,0],state0[:,1],state0[:,2],'r-')\n",
    "plt.hold(True)\n",
    "ax.plot(state1[:,0],state1[:,1],state1[:,2],'b-')\n",
    "ax.set_xlabel('x')\n",
    "ax.set_ylabel('y')\n",
    "ax.set_zlabel('z')\n",
    "plt.title('Lorenz Equations: $\\sigma=${}, $r=${}, $b=${}'.format(sigma,r,b))\n",
    "plt.show()\n"
   ]
  },
  {
   "cell_type": "markdown",
   "metadata": {},
   "source": [
    "## Estimating the Liapunov exponent\n",
    "\n",
    "Now we will calculate and plot the distance between the two trajectories on a log plot"
   ]
  },
  {
   "cell_type": "code",
   "execution_count": null,
   "metadata": {
    "collapsed": false
   },
   "outputs": [],
   "source": [
    "# calculate the distance between the two trajectories\n",
    "\n",
    "delta = state1-state0\n",
    "delta = np.sqrt(np.sum(delta**2,1))\n",
    "\n",
    "# and plot them\n",
    "plt.figure()\n",
    "plt.semilogy(t,delta)\n",
    "plt.xlabel('t')\n",
    "plt.ylabel('$||\\delta(t)||$')\n",
    "plt.grid()\n",
    "\n",
    "# now fit the first part with a straight line to determine the slope\n",
    "# we'll pick the line between tmin and tmax to avoid initial transients and later saturation\n",
    "tmin = 1.\n",
    "tmax = 12.\n",
    "imin = int(np.argwhere(t<tmin)[-1])\n",
    "imax = int(np.argwhere(t>tmax)[0])\n",
    "tfit = t[imin:imax]\n",
    "\n",
    "p= np.polyfit(tfit,np.log(delta[imin:imax]),1)\n",
    "plt.hold(True)\n",
    "plt.semilogy(tfit,np.exp(p[1]+p[0]*tfit),'r')\n",
    "plt.title('Liapunov Exponent Estimate $\\lambda={}$'.format(p[0]))\n",
    "plt.show()\n",
    "\n",
    "\n",
    "\n"
   ]
  },
  {
   "cell_type": "markdown",
   "metadata": {},
   "source": [
    "## Calculating the Lorenz Map\n",
    "\n",
    "The Lorenz Map is a discrete dynamical system that attemps to predict the $n+1$ maximum $Z_{n+1}(t)$ as a function of the previous peak $Z_{n}$.  Viewing the dynamical system in either the $Y,Z$ plane or as the time series $Z(t)$, we see that there are roughly two types of behavior,  a set of growing oscillations with increasing amplitude in $Z$, separated by jumps to a smaller value of $Z$ where it appears qualitatively, that during the jumps, the larger the value of $Z_n$, the smaller the value $Z_{n+1}$ after the jump."
   ]
  },
  {
   "cell_type": "code",
   "execution_count": null,
   "metadata": {
    "collapsed": false
   },
   "outputs": [],
   "source": [
    "Y = state0[:,1]\n",
    "Z = state0[:,2]\n",
    "plt.figure()\n",
    "plt.subplot(2,1,1)\n",
    "ihalf = int(len(Y)/2.)\n",
    "print ihalf,len(Y)\n",
    "plt.plot(Y[:ihalf],Z[:ihalf])\n",
    "plt.xlabel('Y')\n",
    "plt.ylabel('Z')\n",
    "plt.title('Lorenz system, $Y,Z$ plane: $r={}$, $\\sigma={}$,$b={}$'.format(r,sigma,b))\n",
    "plt.grid()\n",
    "plt.subplot(2,1,2)\n",
    "plt.plot(t,Z)\n",
    "plt.xlabel('$t$')\n",
    "plt.ylabel('$Z(t)$')\n",
    "plt.title('$Z$ time series')\n",
    "plt.show()\n"
   ]
  },
  {
   "cell_type": "markdown",
   "metadata": {},
   "source": [
    "### The Lorenz Map\n",
    "\n",
    "The Lorenz map is simply a plot of the peak amplitude of the $n+1$ maximum $Z_{n+1}(t)$ as a function of the previous peak $Z_{n}$. Here we extract the maxima with a bit of discrete hackery where we\n",
    "\n",
    "1. approximate the derivative of Z'\n",
    "2. approximate extrema using intervals of the discrete solution with zero crossings of Z'\n",
    "3. approximate local maxima using extrema with Z greater than mean(Z)\n",
    "4. given the maxima $Z_n$,  plot $Z_{n+1}$ vs $Z_{n}$."
   ]
  },
  {
   "cell_type": "code",
   "execution_count": null,
   "metadata": {
    "collapsed": false
   },
   "outputs": [],
   "source": [
    "# first let's estimate the centered derivatve of Z to isolate the extrema \n",
    "dZ = np.zeros(Z.shape)\n",
    "dZ[1:-2] = Z[2:-1] - Z[0:-3]\n",
    "dZ.shape\n",
    "plt.figure()\n",
    "plt.plot(t,dZ,t,np.zeros(t.shape),'k:')\n",
    "plt.ylabel('$dZ$')\n",
    "plt.xlabel('t')\n",
    "\n",
    "# now let's find all all intervals that contain zero crossings\n",
    "icross = np.nonzero(dZ[:-2]*dZ[1:-1] <= 0)\n",
    "Zextreme = Z[icross]\n",
    "\n",
    "# and pick out all Extremes greater than mean(Z)\n",
    "meanZ = np.mean(Z)\n",
    "Zn = Zextreme[Zextreme > meanZ]\n",
    "\n",
    "# now plot the Lorenz map Z_{n+1} vs Z{n}\n",
    "plt.figure()\n",
    "plt.plot(Zn[:-2],Zn[1:-1],'bo')\n",
    "xlim = plt.gca().get_xlim()\n",
    "plt.hold(True)\n",
    "plt.plot(xlim,xlim,'k')\n",
    "plt.xlabel('$Z_n$')\n",
    "plt.ylabel('$Z_{n+1}$')\n",
    "plt.title('Lorenz map: $r={}$, $\\sigma={}$, $b={}$'.format(r,sigma,b))\n",
    "plt.show()"
   ]
  },
  {
   "cell_type": "code",
   "execution_count": null,
   "metadata": {
    "collapsed": true
   },
   "outputs": [],
   "source": []
  }
 ],
 "metadata": {
  "kernelspec": {
   "display_name": "Python 2",
   "language": "python",
   "name": "python2"
  },
  "language_info": {
   "codemirror_mode": {
    "name": "ipython",
    "version": 2
   },
   "file_extension": ".py",
   "mimetype": "text/x-python",
   "name": "python",
   "nbconvert_exporter": "python",
   "pygments_lexer": "ipython2",
   "version": "2.7.12"
  }
 },
 "nbformat": 4,
 "nbformat_minor": 0
}
