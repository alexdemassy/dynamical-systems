{
 "cells": [
  {
   "cell_type": "markdown",
   "metadata": {},
   "source": [
    "<table>\n",
    " <tr align=left><td><img align=left src=\"./images/CC-BY.png\">\n",
    " <td>Text provided under a Creative Commons Attribution license, CC-BY. All code is made available under the FSF-approved MIT license. (c) Marc Spiegelman,  Based on ipython notebook by Kyle Mandli from his course [Introduction to numerical methods](https://github.com/mandli/intro-numerical-methods)</td>\n",
    "</table>"
   ]
  },
  {
   "cell_type": "code",
   "execution_count": null,
   "metadata": {
    "collapsed": false,
    "slideshow": {
     "slide_type": "skip"
    }
   },
   "outputs": [],
   "source": [
    "%matplotlib inline\n",
    "import numpy\n",
    "import matplotlib.pyplot as plt"
   ]
  },
  {
   "cell_type": "markdown",
   "metadata": {
    "slideshow": {
     "slide_type": "slide"
    }
   },
   "source": [
    "# Root Finding\n",
    "\n",
    "**GOAL:** Find where $f(x) = 0$."
   ]
  },
  {
   "cell_type": "markdown",
   "metadata": {
    "slideshow": {
     "slide_type": "slide"
    }
   },
   "source": [
    "### Example:  A simple non-linear problem\n",
    "\n",
    "let $f(x) = x - \\cos(x)$,  find  values of $x$ where $f(x)=0$.\n",
    "\n",
    "\n",
    "\n"
   ]
  },
  {
   "cell_type": "markdown",
   "metadata": {},
   "source": [
    "Because $f$ is non-linear it is possible that it has no roots, a finite number of roots or even an infinite number of roots.  Thus the first thing one should do is try to visualize $f$ over a range of $x$ to see, qualitatively, whether there are any zero crossings and to identify brackets where $f$ changes sign.\n",
    "\n",
    "Here we will introduce our function using an \"inlined-function\" or \"lambda function\" in python"
   ]
  },
  {
   "cell_type": "code",
   "execution_count": null,
   "metadata": {
    "collapsed": true
   },
   "outputs": [],
   "source": [
    "f = lambda x: x - numpy.cos(x)"
   ]
  },
  {
   "cell_type": "markdown",
   "metadata": {},
   "source": [
    "which simply replaces any use of f(x) with x - cos(x), for example"
   ]
  },
  {
   "cell_type": "code",
   "execution_count": null,
   "metadata": {
    "collapsed": false
   },
   "outputs": [],
   "source": [
    "print 'f(0.)=',f(0.)"
   ]
  },
  {
   "cell_type": "markdown",
   "metadata": {},
   "source": [
    "or let's plot this for $x\\in [-10,10]$"
   ]
  },
  {
   "cell_type": "code",
   "execution_count": null,
   "metadata": {
    "collapsed": false,
    "slideshow": {
     "slide_type": "subslide"
    }
   },
   "outputs": [],
   "source": [
    "x = numpy.linspace(-10.,10., 100)\n",
    "\n",
    "plt.figure()\n",
    "plt.plot(x,f(x),'b')\n",
    "plt.hold(True)\n",
    "plt.plot(x,numpy.zeros(x.shape),'r--')\n",
    "plt.xlabel(\"x\")\n",
    "plt.ylabel(\"f(x)\")\n",
    "plt.title(\"A plot\")\n",
    "plt.show()"
   ]
  },
  {
   "cell_type": "markdown",
   "metadata": {},
   "source": [
    "Which, in this range, has a single root somewhere in the bracket $0<x<5$.  The question is how to find it?"
   ]
  },
  {
   "cell_type": "markdown",
   "metadata": {
    "slideshow": {
     "slide_type": "slide"
    }
   },
   "source": [
    "## The \"right answer\"\n",
    "\n",
    "The correct approach is to use (and understand) a good algorithm for bracketed root finding of functions of a single variable of which scipy.optimize provides several.  Here we will use the brentq algorithm which is a workhorse for rootfinding as it is guaranteed to find at least one root given a proper bracket (where $f$ changes sign).  The method is a generalized secant method so doesn't require derivatives of $f$ and has super-linear convergence (a simple bisection scheme also guarantees a root but has only linear convergence). \n"
   ]
  },
  {
   "cell_type": "code",
   "execution_count": null,
   "metadata": {
    "collapsed": false
   },
   "outputs": [],
   "source": [
    "from scipy.optimize import brentq\n",
    "\n",
    "# give a bracket [a,b] such that f(a)*f(b) <= 0\n",
    "a = 0.\n",
    "b = 5.\n",
    "x0 = brentq(f,a,b)\n",
    "print\n",
    "print \"root x0 = {0}, in bracket [{1},{2}]\".format(x0,a,b)\n",
    "print \"residual f(x0) = {0}\".format(f(x0))\n",
    "\n",
    "plt.figure()\n",
    "plt.plot(x,f(x),'b')\n",
    "plt.hold(True)\n",
    "plt.plot(x,numpy.zeros(x.shape),'r--')\n",
    "plt.plot(x0,f(x0),'go')\n",
    "plt.xlabel(\"x\")\n",
    "plt.ylabel(\"f(x)\")\n",
    "plt.title(\"A root at $x_0={0}$\".format(x0))\n",
    "plt.show()"
   ]
  },
  {
   "cell_type": "markdown",
   "metadata": {
    "collapsed": false,
    "slideshow": {
     "slide_type": "subslide"
    }
   },
   "source": [
    "### Successive Substition (Fixed point iteration)"
   ]
  },
  {
   "cell_type": "markdown",
   "metadata": {
    "slideshow": {
     "slide_type": "slide"
    }
   },
   "source": [
    "A more naive approach is to rewrite $f(x) = 0$ as a fixed point iteration\n",
    "\n",
    "$$ x = g(x) $$\n",
    "\n",
    "where $g(x)$ is another function such that when $x$ satisfies this equation,  it is a root of $f$.  For example here we could choose $g(x) = \\cos(x)$. \n",
    "\n",
    "We can turn this equation into an iterative method by setting $x_0 =0.$ and forming a sequence of numbers\n",
    "\n",
    "$$ x_n = g(x_{n-1})$$\n",
    "\n",
    "and hope it converges.  Algorithmically we could do something like"
   ]
  },
  {
   "cell_type": "code",
   "execution_count": null,
   "metadata": {
    "collapsed": false,
    "slideshow": {
     "slide_type": "subslide"
    }
   },
   "outputs": [],
   "source": [
    "g = lambda x: numpy.cos(x) \n",
    "\n",
    "xn = numpy.zeros(21)\n",
    "for i in xrange(len(xn)-1):\n",
    "    print \"step {0}: x = {1}, residual f(x) = {2}\".format(i,xn[i], f(xn[i]))\n",
    "    xn[i+1] = g(xn[i])"
   ]
  },
  {
   "cell_type": "markdown",
   "metadata": {},
   "source": [
    "and plot out the residual.\n"
   ]
  },
  {
   "cell_type": "code",
   "execution_count": null,
   "metadata": {
    "collapsed": false,
    "scrolled": true,
    "slideshow": {
     "slide_type": "slide"
    }
   },
   "outputs": [],
   "source": [
    "plt.figure()\n",
    "plt.plot(range(len(xn)),f(xn),'b-o')\n",
    "plt.xlabel('Iterations')\n",
    "plt.ylabel('Residual $f(x)$')\n",
    "plt.title('Convergence of fixed point iteration)')\n",
    "plt.show()"
   ]
  },
  {
   "cell_type": "markdown",
   "metadata": {},
   "source": [
    "which oscillates towards the value of the root.  If we look at the absolute value of the error, we see that it converges linearly i.e.\n",
    "\n",
    "$$ |e_{n+1}| = K|e_{n}| $$\n",
    "\n",
    "Where $K$ is a value that analysis shows should be $K=|g'(x^*)|$ where $x^*$ is the root.  For our problem $g'(x) = -\\sin(x)$ and $K=0.673612029183$.  Because $K<1$ the fixed point iteration is a \"contraction\" and the error eventually $\\rightarrow 0$ as $n\\rightarrow\\infty$.  We demonstrated that this works for this problem graphically"
   ]
  },
  {
   "cell_type": "code",
   "execution_count": null,
   "metadata": {
    "collapsed": false,
    "scrolled": true,
    "slideshow": {
     "slide_type": "slide"
    }
   },
   "outputs": [],
   "source": [
    "plt.figure()\n",
    "plt.semilogy(range(len(xn)),numpy.abs(f(xn)),'b-o')\n",
    "plt.xlabel('Iterations')\n",
    "plt.ylabel('Residual $|f(x)|$')\n",
    "plt.title('Convergence of fixed point iteration')\n",
    "plt.show()"
   ]
  },
  {
   "cell_type": "markdown",
   "metadata": {},
   "source": [
    "and numerically by comparing the ratio of $|f(x_{n+1})|/|f(x_n)|$"
   ]
  },
  {
   "cell_type": "code",
   "execution_count": null,
   "metadata": {
    "collapsed": false,
    "slideshow": {
     "slide_type": "subslide"
    }
   },
   "outputs": [],
   "source": [
    "print\n",
    "for i in range(len(xn)-1):\n",
    "    print 'Step = {0}, K={1}'.format((i+1),numpy.abs(f(xn[i+1]))/numpy.abs(f(xn[i])))\n",
    "    \n",
    "gprime = lambda x: -numpy.sin(x)\n",
    "print\n",
    "print \"|g'(x0)| = {0}\".format(numpy.abs(gprime(x0)))"
   ]
  },
  {
   "cell_type": "markdown",
   "metadata": {
    "slideshow": {
     "slide_type": "slide"
    }
   },
   "source": [
    "### Newton's Method\n",
    "\n",
    "A  potentially more efficient method for Non-linear problems is Newton's method which can be considered another fixed-point iteration but promises much better convergence (near the fixed point, for simple roots).  \n",
    "\n",
    "The basic idea is that given some initial guess $x_n$ such that $f(x_n) \\neq 0$, there is some correction $\\delta_n$ such that $f(x_n + \\delta_n) = 0$.  Expanding $f$ in a Taylor series around $x_n$ we get the linear approximation\n",
    "\n",
    "$$ f(x_n + \\delta_n) \\approx f(x_n) + f'(x_n)\\delta_n + O(\\delta_n^2) = 0$$\n",
    "\n",
    "neglecting terms of order $\\delta_n^2$ we can solve for the correction that would be exact if the problem were linear, i.e.\n",
    "\n",
    "$$ \\delta_n = -f(x_n)/f'(x_n) $$\n",
    "\n",
    "then the next iterate is given by \n",
    "\n",
    "$$ x_{n+1} = x_{n} + \\delta_n $$\n",
    "\n",
    "and iterate until the residual $|f(x)| < \\mathrm{tol}$ for some tolerance.\n",
    "\n",
    "Algorithmically...\n",
    "\n",
    "    \n",
    "\n",
    "    "
   ]
  },
  {
   "cell_type": "code",
   "execution_count": null,
   "metadata": {
    "collapsed": false,
    "slideshow": {
     "slide_type": "subslide"
    }
   },
   "outputs": [],
   "source": [
    "fprime = lambda x: 1. + numpy.sin(x)\n",
    "\n",
    "xnn = numpy.zeros(10)\n",
    "print \"\\nNewton's Method\\n\"\n",
    "i = 0\n",
    "tol = 1.e-16\n",
    "while numpy.abs(f(xnn[i])) > tol:\n",
    "    print \"step {0}: x = {1}, residual f(x) = {2}\".format(i,xnn[i], f(xnn[i]))\n",
    "    xnn[i+1] = xnn[i] - f(xnn[i])/fprime(xnn[i])\n",
    "    i += 1\n",
    "    \n",
    "imax = i\n",
    "xnn = xnn[:imax]"
   ]
  },
  {
   "cell_type": "markdown",
   "metadata": {
    "slideshow": {
     "slide_type": "slide"
    }
   },
   "source": [
    "Analysis shows that near a simple root,  Newton's method converges quadratically i.e.\n",
    "\n",
    "$$|e_{n+1}| = C |e_n|^2$$\n",
    "\n",
    "thus doubling the number of significant digits per iteration. This analysis is only valid near the root and in general, Newton's method can be highly unstable (for example if it finds a region where $f'(x)$ is close to zero), and in general requires some additional controls to maintain a bracket.\n",
    "\n",
    "Comparing the two methods for this problem, however, shows that Newton's method converges quadratically,  while the fixed point iteration converges linearly"
   ]
  },
  {
   "cell_type": "code",
   "execution_count": null,
   "metadata": {
    "collapsed": false,
    "scrolled": false,
    "slideshow": {
     "slide_type": "slide"
    }
   },
   "outputs": [],
   "source": [
    "plt.figure()\n",
    "plt.semilogy(range(len(xn)),numpy.abs(f(xn)),'b-o',label='fixed point')\n",
    "plt.hold(True)\n",
    "plt.semilogy(range(len(xnn)),numpy.abs(f(xnn)),'r-o',label='newton')\n",
    "plt.xlabel('Iterations')\n",
    "plt.ylabel('Residual $|f(x)|$')\n",
    "plt.legend(loc='best')\n",
    "plt.title('Comparison of Fixed point iteration to Newtons Method')\n",
    "plt.show()"
   ]
  },
  {
   "cell_type": "markdown",
   "metadata": {
    "slideshow": {
     "slide_type": "slide"
    }
   },
   "source": [
    "## Analysis: \n",
    "\n",
    "Neither Fixed Point iteration or Newton's method are guaranteed to converge even given a bracket and more sophisticated methods are needed for convergence and robustness (and thus the recommendation of a proper root finder like brentq from scipy).  For further analysis of the convergence of fixed-point iterations and Newton's iteration as well as a host of other root finding algorithm's see Kyle Mandli's notes\n",
    " [Introduction to numerical methods](https://github.com/mandli/intro-numerical-methods), in particular lecture [05_root_finding_optimization.ipynb](https://github.com/mandli/intro-numerical-methods/blob/master/05_root_finding_optimization.ipynb)"
   ]
  },
  {
   "cell_type": "code",
   "execution_count": null,
   "metadata": {
    "collapsed": true
   },
   "outputs": [],
   "source": []
  }
 ],
 "metadata": {
  "kernelspec": {
   "display_name": "Python 2",
   "language": "python",
   "name": "python2"
  },
  "language_info": {
   "codemirror_mode": {
    "name": "ipython",
    "version": 2
   },
   "file_extension": ".py",
   "mimetype": "text/x-python",
   "name": "python",
   "nbconvert_exporter": "python",
   "pygments_lexer": "ipython2",
   "version": "2.7.12"
  }
 },
 "nbformat": 4,
 "nbformat_minor": 0
}
