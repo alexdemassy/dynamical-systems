{
 "cells": [
  {
   "cell_type": "markdown",
   "metadata": {},
   "source": [
    "<table>\n",
    " <tr align=left><td><img align=left src=\"./images/CC-BY.png\">\n",
    " <td>Text provided under a Creative Commons Attribution license, CC-BY. All code is made available under the FSF-approved MIT license. (c) Marc Spiegelman</td>\n",
    "</table>"
   ]
  },
  {
   "cell_type": "code",
   "execution_count": null,
   "metadata": {
    "collapsed": false,
    "scrolled": true,
    "slideshow": {
     "slide_type": "skip"
    }
   },
   "outputs": [],
   "source": [
    "%matplotlib inline\n",
    "import numpy\n",
    "import matplotlib.pyplot as plt"
   ]
  },
  {
   "cell_type": "markdown",
   "metadata": {
    "slideshow": {
     "slide_type": "slide"
    }
   },
   "source": [
    "# Plotting Bifurcations\n",
    "\n",
    "**GOAL:** Find where $f(x,r) = 0$ and label the stable and unstable branches."
   ]
  },
  {
   "cell_type": "markdown",
   "metadata": {
    "slideshow": {
     "slide_type": "slide"
    }
   },
   "source": [
    "\n",
    "A bifurcation diagram provides information on how the fixed points of a dynamical system $f(x,r)=0$ vary as a function of the control parameter $r$\n",
    "\n",
    "Here we write a snazzy little python function to extract the zero contour and label it with respect to whether it is a stable branch with ($\\partial f/\\partial x < 0$) or an unstable branch ($\\partial f/\\partial x > 0 $)\n",
    "\n",
    "\n",
    "\n"
   ]
  },
  {
   "cell_type": "code",
   "execution_count": null,
   "metadata": {
    "collapsed": false,
    "scrolled": true
   },
   "outputs": [],
   "source": [
    "def bifurcation_plot(f,f_x,r,x,rlabel='r'):\n",
    "    \"\"\" produce a bifurcation diagram for a function f(r,x) given\n",
    "        f and its partial derivative f_x(r,x) over a domain given by numpy arrays r and x\n",
    "        \n",
    "        f(r,x)  :  RHS function of autonomous ode dx/dt = f(r,x)\n",
    "        f_x(r,x):  partial derivative of f with respect to x\n",
    "        r       :  numpy array giving r coordinates of domain\n",
    "        x       :  numpy array giving x coordinates of domain\n",
    "        rlabel  :  string for x axis parameter label\n",
    "    \"\"\"\n",
    "    # set up a mesh grid and extract the 0 level set of f\n",
    "    R,X = numpy.meshgrid(r,x)\n",
    "    plt.figure()\n",
    "    CS = plt.contour(R,X,f(R,X),[0],colors='k')\n",
    "    plt.clf()\n",
    "    \n",
    "    c0 = CS.collections[0]\n",
    "    # for each path in the contour extract vertices and mask by the sign of df/dx\n",
    "    for path in c0.get_paths():\n",
    "        vertices = path.vertices\n",
    "        vr = vertices[:,0]\n",
    "        vx = vertices[:,1]\n",
    "        mask = numpy.sign(f_x(vr,vx))\n",
    "        stable = mask < 0.\n",
    "        unstable = mask > 0.\n",
    "        \n",
    "        # plot the stable and unstable branches for each path\n",
    "        plt.plot(vr[stable],vx[stable],'b')\n",
    "        plt.hold(True)\n",
    "        plt.plot(vr[unstable],vx[unstable],'b--')\n",
    "        \n",
    "    plt.xlabel('parameter {0}'.format(rlabel))\n",
    "    plt.ylabel('x')\n",
    "    plt.legend(('stable','unstable'),loc='best')\n",
    "    plt.xlim(r[0],r[-1])\n",
    "    plt.ylim(x[0],x[-1])\n",
    "    \n"
   ]
  },
  {
   "cell_type": "markdown",
   "metadata": {},
   "source": [
    "### Example #1:  Saddle node bifurcation\n",
    "\n",
    "consider the problem \n",
    "$$ f(r,x) = r + x^2$$\n",
    "\n",
    "and we will define $f$ and $\\partial f/\\partial x$ using inlined python lambda functions"
   ]
  },
  {
   "cell_type": "code",
   "execution_count": null,
   "metadata": {
    "collapsed": false
   },
   "outputs": [],
   "source": [
    "f = lambda r,x: r + x*x\n",
    "f_x = lambda r,x: 2.*x\n",
    "\n",
    "x = numpy.linspace(-4,4,100)\n",
    "r = numpy.linspace(-4,4,100)\n",
    "\n",
    "bifurcation_plot(f,f_x,r,x)\n"
   ]
  },
  {
   "cell_type": "markdown",
   "metadata": {
    "collapsed": true
   },
   "source": [
    "### Example #2:  Logistic equation with constant harvesting\n",
    "\n",
    "$$ dx/dt = x(1-x) - h $$"
   ]
  },
  {
   "cell_type": "code",
   "execution_count": null,
   "metadata": {
    "collapsed": false
   },
   "outputs": [],
   "source": [
    "f = lambda h,x: x*(1-x) - h\n",
    "f_x = lambda h,x: 1. - 2.*x\n",
    "\n",
    "x = numpy.linspace(0,1.,100)\n",
    "h = numpy.linspace(0,.5,100)\n",
    "\n",
    "bifurcation_plot(f,f_x,h,x,rlabel='h')"
   ]
  },
  {
   "cell_type": "markdown",
   "metadata": {},
   "source": [
    "### Example #3:  transcritical bifurcation\n",
    "\n",
    "$$f(r,x) = rx - x^2$$\n"
   ]
  },
  {
   "cell_type": "code",
   "execution_count": null,
   "metadata": {
    "collapsed": false,
    "scrolled": true
   },
   "outputs": [],
   "source": [
    "f = lambda r,x: r*x -  x*x\n",
    "f_x = lambda r,x: r - 2.*x\n",
    "\n",
    "x = numpy.linspace(-1.,1.,100)\n",
    "r = numpy.linspace(-1.,1.,100)\n",
    "\n",
    "bifurcation_plot(f,f_x,r,x)\n"
   ]
  },
  {
   "cell_type": "markdown",
   "metadata": {},
   "source": [
    "### Example #4  super-critical pitchfork bifurcation\n",
    "\n",
    "$$f(r,x) = rx - x^3$$\n"
   ]
  },
  {
   "cell_type": "code",
   "execution_count": null,
   "metadata": {
    "collapsed": false,
    "scrolled": true
   },
   "outputs": [],
   "source": [
    "f = lambda r,x: r*x -  x**3\n",
    "f_x = lambda r,x: r - 3.*x**2\n",
    "\n",
    "x = numpy.linspace(-1.,1.,100)\n",
    "r = numpy.linspace(-1.,1.,100)\n",
    "\n",
    "bifurcation_plot(f,f_x,r,x)"
   ]
  },
  {
   "cell_type": "markdown",
   "metadata": {},
   "source": [
    "##### Example #4  sub-critical pitchfork bifurcation\n",
    "\n",
    "$$f(r,x) = rx + x^3$$\n"
   ]
  },
  {
   "cell_type": "code",
   "execution_count": null,
   "metadata": {
    "collapsed": false,
    "scrolled": true
   },
   "outputs": [],
   "source": [
    "f = lambda r,x: r*x +  x**3\n",
    "f_x = lambda r,x: r + 3.*x**2\n",
    "\n",
    "x = numpy.linspace(-1.,1.,100)\n",
    "r = numpy.linspace(-1.,1.,100)\n",
    "\n",
    "bifurcation_plot(f,f_x,r,x)"
   ]
  },
  {
   "cell_type": "markdown",
   "metadata": {},
   "source": [
    "### Example #6 subcritical pitchfork bifurcation with stabilization\n",
    "\n",
    "$$f(r,x) = rx + x^3 - x^5 $$\n"
   ]
  },
  {
   "cell_type": "code",
   "execution_count": null,
   "metadata": {
    "collapsed": false,
    "scrolled": false
   },
   "outputs": [],
   "source": [
    "f = lambda r,x: r*x +  x**3 - x**5\n",
    "f_x = lambda r,x: r + 3.*x**2 -5.*x**4\n",
    "\n",
    "x = numpy.linspace(-2.,2.,100)\n",
    "r = numpy.linspace(-.5,.5,100)\n",
    "\n",
    "bifurcation_plot(f,f_x,r,x)"
   ]
  },
  {
   "cell_type": "markdown",
   "metadata": {
    "collapsed": true
   },
   "source": [
    "FIXME:  this plot needs to mask out the spurious stable branch which is a plotting error"
   ]
  },
  {
   "cell_type": "markdown",
   "metadata": {
    "collapsed": true
   },
   "source": [
    "And now you can play with your own function"
   ]
  },
  {
   "cell_type": "code",
   "execution_count": null,
   "metadata": {
    "collapsed": false,
    "scrolled": true
   },
   "outputs": [],
   "source": [
    "f = lambda r,x: # < your function here >\n",
    "f_x = lambda r,x: # < your derivative here >\n",
    "\n",
    "# Adjust your domain and resolution\n",
    "x = numpy.linspace(-10.,10.,100)\n",
    "r = numpy.linspace(-10.,10.,100)\n",
    "\n",
    "#plot and pray (and watch out for glitches)\n",
    "bifurcation_plot(f,f_x,r,x)"
   ]
  },
  {
   "cell_type": "code",
   "execution_count": null,
   "metadata": {
    "collapsed": true
   },
   "outputs": [],
   "source": []
  }
 ],
 "metadata": {
  "kernelspec": {
   "display_name": "Python 2",
   "language": "python",
   "name": "python2"
  },
  "language_info": {
   "codemirror_mode": {
    "name": "ipython",
    "version": 2
   },
   "file_extension": ".py",
   "mimetype": "text/x-python",
   "name": "python",
   "nbconvert_exporter": "python",
   "pygments_lexer": "ipython2",
   "version": "2.7.12"
  }
 },
 "nbformat": 4,
 "nbformat_minor": 0
}
